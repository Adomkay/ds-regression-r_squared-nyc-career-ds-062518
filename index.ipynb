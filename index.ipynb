{
 "cells": [
  {
   "cell_type": "markdown",
   "metadata": {},
   "source": [
    "# Calculating r-squared or \"Co-efficient of Determination\"\n"
   ]
  },
  {
   "cell_type": "markdown",
   "metadata": {},
   "source": [
    "## Introduction: \n",
    "\n",
    "Once a regression model is created, we need to decide how \"accurate\" the regression line is to some degree. \n",
    "\n",
    "Recall the plots from previous labs, one would already begin to see how likely a best-fit line would be a good overall fit or not, such as in the case of:\n",
    "![](positive-correlation.png)\n",
    "\n",
    "compared to :\n",
    "\n",
    "![](no-correlation.png)"
   ]
  },
  {
   "cell_type": "markdown",
   "metadata": {},
   "source": [
    "in the second image, we can still calculate a best fit line using formulas shown earlier,  but it is going to be useless due to variance in data.\n",
    "\n",
    "The standard way to check for errors is by using **Squared Errors**. You will hear about this method as **R-squared** or the **Coefficient of determination**. So what is squared error?\n",
    "\n",
    "![](sum-sqaures.png)"
   ]
  },
  {
   "cell_type": "markdown",
   "metadata": {},
   "source": [
    "The distance between the regression line's y values, and the data's y values is the error, then we square that. The line's squared error is either a mean or a sum of this, we'll simply sum it. Sp, why are we squaring errors? Why not just adding them up? First, we want a way to normalize the error as a distance, so the error might be -5, but, when squared, that's a positive number.\n"
   ]
  },
  {
   "cell_type": "markdown",
   "metadata": {},
   "source": [
    "Squared error, however, is totally relative to the dataset, so we need something more. That's where \"r squared\" comes in, also called the \"coefficient of determination.\" The equation for this is:\n",
    "\n",
    "![](r-squared.png)"
   ]
  },
  {
   "cell_type": "markdown",
   "metadata": {},
   "source": [
    "The equation is essentially 1 minus the division of the **squared error of the regression (predicted) line**, by the **squared error of the mean y line**\n",
    ". \n",
    ">The mean y line is quite literally the mean of all of the y values from the dataset. Thus, we do the squared error of the average y, and of the regression line. \n",
    "\n",
    "The objective here is to learn how much of the error is actually just simply a result in variation in the data features, as opposed to being a result of the regression line being a poor fit."
   ]
  },
  {
   "cell_type": "markdown",
   "metadata": {},
   "source": [
    "## Programming R-squared\n",
    "\n",
    "Let's calculate R-squared in Python. The first step would be to calculate the squared error. Remember squared error is the sum of quares of difference between a given line and the ground truth (actual data points).\n",
    "\n",
    "Create a function that takes in y points of the original line and a regression line, calculates the difference between real and predicted values of y, squares and sums all the differences:"
   ]
  },
  {
   "cell_type": "code",
   "execution_count": 35,
   "metadata": {},
   "outputs": [
    {
     "data": {
      "text/plain": [
       "2"
      ]
     },
     "execution_count": 35,
     "metadata": {},
     "output_type": "execute_result"
    }
   ],
   "source": [
    "import numpy as np\n",
    "\n",
    "def sum_sq_err(ys_real,ys_predicted):\n",
    "    \n",
    "    # Calculate sum of squared errors between regression and mean line \n",
    "    \n",
    "    sse =  np.sum((ys_predicted - ys_real) * (ys_predicted - ys_real))\n",
    "    \n",
    "    return sse\n",
    "\n",
    "Y_real = np.array([1,3,5,7])\n",
    "Y_pred = np.array([1,4,5,8])\n",
    "\n",
    "sum_sq_err(Y_real, Y_pred)\n",
    "# 2"
   ]
  },
  {
   "cell_type": "markdown",
   "metadata": {},
   "source": [
    "Squared error, as calculated above is only a part of the coefficient of determination, Let's now build a function that would use `sq_err()` function above to calculate the value of r-squared."
   ]
  },
  {
   "cell_type": "code",
   "execution_count": 36,
   "metadata": {},
   "outputs": [
    {
     "data": {
      "text/plain": [
       "0.35"
      ]
     },
     "execution_count": 36,
     "metadata": {},
     "output_type": "execute_result"
    }
   ],
   "source": [
    "def r_squared(ys_real, ys_predicted):\n",
    "    \n",
    "    # Calculate Y_mean , squared error for regression and mean line , and calculate r-squared\n",
    "    y_mean = [mean(ys_real) for y in ys_real]\n",
    "\n",
    "    sq_err_reg= sum_sq_err(ys_real, ys_predicted)\n",
    "    sq_err_y_mean = sum_sq_err(ys_real, y_mean)\n",
    "    \n",
    "    # Calculate r-squared using given formula\n",
    "    r_sq =  1 - (sq_err_reg / sq_err_y_mean)\n",
    "    \n",
    "    return r_sq\n",
    "\n",
    "# Check the output with some dummy data\n",
    "Y_real = np.array([1,3,5,7])\n",
    "Y_pred = np.array([1,5,5,10])\n",
    "\n",
    "r_squared(Y_real, Y_pred)\n",
    "\n",
    "# 0.35"
   ]
  },
  {
   "cell_type": "markdown",
   "metadata": {},
   "source": [
    "## Putting it all together\n",
    "\n",
    "We shall shortly see how to interpret the value of r-suqared. First let's write a complete program that would use `calc_slope()` , `sum_sq_err()` and `r_squared()` that we have created upto this point -  to take in some data values, apply necessary calculations and calculate co-efficient of determination. "
   ]
  },
  {
   "cell_type": "code",
   "execution_count": 38,
   "metadata": {},
   "outputs": [
    {
     "data": {
      "image/png": "[encoded data removed]",
      "text/plain": [
       "<matplotlib.figure.Figure at 0x1a1c257978>"
      ]
     },
     "metadata": {},
     "output_type": "display_data"
    },
    {
     "data": {
      "text/plain": [
       "0.9715335169880626"
      ]
     },
     "execution_count": 38,
     "metadata": {},
     "output_type": "execute_result"
    }
   ],
   "source": [
    "import numpy as np\n",
    "import matplotlib.pyplot as plt\n",
    "from matplotlib import style\n",
    "style.use('ggplot')\n",
    "\n",
    "\n",
    "def calc_slope(xs,ys):\n",
    "\n",
    "    m = (((np.mean(xs)*np.mean(ys)) - np.mean(xs*ys)) /\n",
    "         ((np.mean(xs)**2) - np.mean(xs*xs)))\n",
    "    \n",
    "    return m\n",
    "\n",
    "def best_fit(xs,ys):\n",
    "\n",
    "    m = calc_slope(xs,ys)\n",
    "    b = np.mean(ys) - m*np.mean(xs)\n",
    "    \n",
    "    return m, b\n",
    "\n",
    "def reg_line (m, b, X):\n",
    "    \n",
    "    return [(m*x)+b for x in X]\n",
    "\n",
    "def sum_sq_err(ys_real,ys_predicted):\n",
    "\n",
    "    sse =  sum((ys_predicted - ys_real) * (ys_predicted - ys_real))\n",
    "    \n",
    "    return sse\n",
    "\n",
    "def r_squared(ys_real, ys_predicted):\n",
    "    \n",
    "    # Calculate Y_mean , squared error for regression and mean line , and calculate r-squared\n",
    "    y_mean = [mean(ys_real) for y in ys_real]\n",
    "\n",
    "    sq_err_reg= sum_sq_err(ys_real, ys_predicted)\n",
    "    sq_err_y_mean = sum_sq_err(ys_real, y_mean)\n",
    "    \n",
    "    # Calculate r-squared \n",
    "    r_sq =  1 - (sq_err_reg/sq_err_y_mean)\n",
    "    \n",
    "    return r_sq\n",
    "\n",
    "\n",
    "X = np.array([1,2,3,4,5,6,7,8,9,10], dtype=np.float64)\n",
    "Y = np.array([7,7,8,9,9,10,10,11,11,12], dtype=np.float64)\n",
    "\n",
    "\n",
    "m, b = best_fit_slope_and_intercept(X,Y)\n",
    "\n",
    "Y_pred = reg_line(m, b, X)\n",
    "\n",
    "r_squared = r_squared(Y,Y_pred)\n",
    "\n",
    "plt.scatter(X,Y,color='#003F72',label='data')\n",
    "plt.plot(X, regression_line, label='regression line')\n",
    "plt.legend(loc=4)\n",
    "plt.show()\n",
    "r_squared\n",
    "# 0.9715335169880626"
   ]
  },
  {
   "cell_type": "markdown",
   "metadata": {},
   "source": [
    "Let's verify our reslut using SciPy stats `linregress()` for least square regression. Remember it returns all the values i.e. slope, intercept, r_value, p_value and std_err. We can take the square of r_value to calculate our r-squared. "
   ]
  },
  {
   "cell_type": "code",
   "execution_count": 34,
   "metadata": {},
   "outputs": [
    {
     "name": "stdout",
     "output_type": "stream",
     "text": [
      "0.9715335169880625\n"
     ]
    },
    {
     "data": {
      "image/png": "[encoded data removed]",
      "text/plain": [
       "<matplotlib.figure.Figure at 0x1a1c128630>"
      ]
     },
     "metadata": {},
     "output_type": "display_data"
    }
   ],
   "source": [
    "from scipy import stats\n",
    "slope, intercept, r_value, p_value, std_err = stats.linregress(X,Y)\n",
    "print (r_value**2)\n",
    "\n",
    "plt.plot(X, Y, 'o', label='original data', color='#003F72')\n",
    "plt.plot(X, intercept + slope*X, 'r', label='fitted line')\n",
    "plt.legend()\n",
    "plt.show()\n",
    "\n",
    "# 0.9715335169880625"
   ]
  },
  {
   "cell_type": "markdown",
   "metadata": {},
   "source": [
    "## Interpreting r-squared\n",
    "\n",
    "The definition of R-squared is fairly straight-forward; it is the percentage of the response variable variation that is explained by a linear model. Or:\n",
    "\n",
    "R-squared = Explained variation / Total variation\n",
    "\n",
    "R-squared is always between 0 and 1:\n",
    "\n",
    ">0 indicates that the model explains none of the variability of the response data around its mean.\n",
    "\n",
    ">1 indicates that the model explains all the variability of the response data around its mean. \n",
    "\n",
    "In above short example, the value or r-squared i.e. 0.97 indicates a very good fit for the regression line and the visualisation above further explains why that is the case. \n",
    "\n",
    "**Try above example with a set of points having high variability and comment on the results**"
   ]
  }
 ],
 "metadata": {
  "kernelspec": {
   "display_name": "Python 3",
   "language": "python",
   "name": "python3"
  },
  "language_info": {
   "codemirror_mode": {
    "name": "ipython",
    "version": 3
   },
   "file_extension": ".py",
   "mimetype": "text/x-python",
   "name": "python",
   "nbconvert_exporter": "python",
   "pygments_lexer": "ipython3",
   "version": "3.6.4"
  }
 },
 "nbformat": 4,
 "nbformat_minor": 2
}
